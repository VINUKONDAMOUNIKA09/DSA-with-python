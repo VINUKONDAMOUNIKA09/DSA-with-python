{
 "cells": [
  {
   "cell_type": "code",
   "execution_count": 6,
   "id": "e29dd1c3-af15-499d-99a6-6f04bea872d6",
   "metadata": {},
   "outputs": [
    {
     "name": "stdin",
     "output_type": "stream",
     "text": [
      "Enter the number of elements: 7\n"
     ]
    },
    {
     "name": "stdout",
     "output_type": "stream",
     "text": [
      "Enter 7 elements\n"
     ]
    },
    {
     "name": "stdin",
     "output_type": "stream",
     "text": [
      " 21\n",
      " 0\n",
      " 1\n",
      " 9\n",
      " 66\n",
      " 99\n",
      " 100\n"
     ]
    },
    {
     "name": "stdout",
     "output_type": "stream",
     "text": [
      "sorting array [0, 1, 9, 21, 66, 99, 100]\n"
     ]
    }
   ],
   "source": [
    "#SELECTION SORT\n",
    "#1.start from the first element in the list/array\n",
    "#2.arr[0]=min\n",
    "#3.compare with all the remaining elements to find the real lowest element\n",
    "#perform swapping with current position\n",
    "#5.repear the same with adding positional values for each,min check\n",
    "def selection_sort(arr):\n",
    "    n=len(arr)\n",
    "    for i in range(n):\n",
    "        min_index=i\n",
    "        for j in range(i+1,n):\n",
    "            if arr[j]< arr[min_index]:\n",
    "                min_index=j\n",
    "        arr[i],arr[min_index]=arr[min_index],arr[i]\n",
    "    return arr\n",
    "size=int(input(\"Enter the number of elements:\"))\n",
    "arr=[]\n",
    "print(\"Enter\",size,\"elements\")\n",
    "for _ in range(size):\n",
    "    num=int(input())\n",
    "    arr.append(num)\n",
    "result=selection_sort(arr)\n",
    "print(\"sorting array\",result)\n",
    "\n"
   ]
  },
  {
   "cell_type": "code",
   "execution_count": null,
   "id": "fc0ddc5a-2207-4e87-9b30-c3e8b979c5e9",
   "metadata": {},
   "outputs": [],
   "source": []
  }
 ],
 "metadata": {
  "kernelspec": {
   "display_name": "Python [conda env:base] *",
   "language": "python",
   "name": "conda-base-py"
  },
  "language_info": {
   "codemirror_mode": {
    "name": "ipython",
    "version": 3
   },
   "file_extension": ".py",
   "mimetype": "text/x-python",
   "name": "python",
   "nbconvert_exporter": "python",
   "pygments_lexer": "ipython3",
   "version": "3.12.7"
  }
 },
 "nbformat": 4,
 "nbformat_minor": 5
}
