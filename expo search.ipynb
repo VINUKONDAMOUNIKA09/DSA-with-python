{
 "cells": [
  {
   "cell_type": "code",
   "execution_count": 7,
   "id": "6c168496-ce2d-4b41-ae05-cfaeb60c9008",
   "metadata": {},
   "outputs": [
    {
     "name": "stdout",
     "output_type": "stream",
     "text": [
      "Element 10 found at index:4\n"
     ]
    }
   ],
   "source": [
    "#sorted numbers searching\n",
    "#check the array !=0m\n",
    "#check the first element\n",
    "#find the range using expo   \n",
    "'''while for boundary    identify within boundary'''\n",
    "#range perform binary search \n",
    "#return result\n",
    "def bsearch_range(arr, target, left, right):\n",
    "    while left<=right:\n",
    "        mid=(left+right)//2\n",
    "        if arr[mid]==target:\n",
    "            return mid\n",
    "        elif arr[mid]<target:\n",
    "            left=mid+1\n",
    "        else:\n",
    "            right=mid-1\n",
    "    return -1\n",
    "def expo_search(arr,target):\n",
    "    if not arr:\n",
    "        return -1\n",
    "    if arr[0]==target:\n",
    "        return 0\n",
    "    n=len(arr)\n",
    "    i=1\n",
    "    while i<n and arr[i]<= target:\n",
    "        i *=2\n",
    "    return bsearch_range(arr, target, i//2,min(i, n-1))\n",
    "arr=[2,4,6,8,10,12,14]\n",
    "target = 10\n",
    "result= expo_search(arr, target)\n",
    "print(f\"Element {target} found at index:{result}\")\n",
    "\n",
    "\n"
   ]
  },
  {
   "cell_type": "code",
   "execution_count": null,
   "id": "d5eb3543-2491-4884-ade9-d8bf97641ee0",
   "metadata": {},
   "outputs": [],
   "source": []
  }
 ],
 "metadata": {
  "kernelspec": {
   "display_name": "Python [conda env:base] *",
   "language": "python",
   "name": "conda-base-py"
  },
  "language_info": {
   "codemirror_mode": {
    "name": "ipython",
    "version": 3
   },
   "file_extension": ".py",
   "mimetype": "text/x-python",
   "name": "python",
   "nbconvert_exporter": "python",
   "pygments_lexer": "ipython3",
   "version": "3.12.7"
  }
 },
 "nbformat": 4,
 "nbformat_minor": 5
}
