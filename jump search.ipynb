{
 "cells": [
  {
   "cell_type": "code",
   "execution_count": 1,
   "id": "26e0c7cb-a51f-415b-ac61-2f567854b016",
   "metadata": {},
   "outputs": [
    {
     "name": "stdout",
     "output_type": "stream",
     "text": [
      "Element 7 found at index: 3\n"
     ]
    }
   ],
   "source": [
    "#size n / sorted\n",
    "#create a block key\n",
    "#search operation will be performed\n",
    "#arr[m] < var/key <arr(k+1) [m]\n",
    "#compare each jump linearly\n",
    "import math\n",
    "def jump_search(arr, target):\n",
    "    if not arr:\n",
    "        return -1\n",
    "    n= len(arr)\n",
    "    step=int(math.sqrt(n))\n",
    "    prev=0\n",
    "    while prev <n and arr[prev]<target:\n",
    "        prev +=step\n",
    "    for i in range(max(0, prev- step), min(n, prev+1)):\n",
    "        if arr[i]==target:\n",
    "            return i\n",
    "    return -1\n",
    "arr=[1,3,5,7,8,9,11]\n",
    "target=7\n",
    "result=jump_search(arr, target)\n",
    "print(f\"Element {target} found at index: {result}\")"
   ]
  },
  {
   "cell_type": "code",
   "execution_count": null,
   "id": "8cf33d84-fdee-4a2d-86f4-efb40520cec0",
   "metadata": {},
   "outputs": [],
   "source": []
  }
 ],
 "metadata": {
  "kernelspec": {
   "display_name": "Python [conda env:base] *",
   "language": "python",
   "name": "conda-base-py"
  },
  "language_info": {
   "codemirror_mode": {
    "name": "ipython",
    "version": 3
   },
   "file_extension": ".py",
   "mimetype": "text/x-python",
   "name": "python",
   "nbconvert_exporter": "python",
   "pygments_lexer": "ipython3",
   "version": "3.12.7"
  }
 },
 "nbformat": 4,
 "nbformat_minor": 5
}
