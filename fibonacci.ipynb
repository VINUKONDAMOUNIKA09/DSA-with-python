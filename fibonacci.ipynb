{
 "cells": [
  {
   "cell_type": "code",
   "execution_count": 2,
   "id": "004afa7a-bc62-49be-9a9b-2cb1788a85d8",
   "metadata": {},
   "outputs": [
    {
     "name": "stdout",
     "output_type": "stream",
     "text": [
      "Element 8 found at index: 3\n"
     ]
    }
   ],
   "source": [
    "#fibonacci search\n",
    "def fibsearch(arr,target):\n",
    "    if not arr:\n",
    "        return -1\n",
    "    n=len(arr)\n",
    "    fib2=0\n",
    "    fib1=1\n",
    "    fib=fib1+fib2\n",
    "    while fib<n:\n",
    "        fib2=fib1\n",
    "        fib1=fib\n",
    "        fib=fib1+fib2\n",
    "    offset=-1\n",
    "    while fib>1:\n",
    "        i=min(offset+fib2,n-1)\n",
    "        if arr[i]==target:\n",
    "            return i\n",
    "        elif arr[i]<target:\n",
    "            offset=i\n",
    "            fib=fib1\n",
    "            fib1=fib2\n",
    "            fib2=fib-fib1\n",
    "        else:\n",
    "            fib=fib2\n",
    "            fib1=fib1-fib2\n",
    "            fib2=fib-fib1\n",
    "    if fib==1 and offset+1<n and arr[offset+1]==target:\n",
    "        return offset+1\n",
    "    return -1\n",
    "arr=[2,4,6,8,10,12]\n",
    "target=8\n",
    "result=fibsearch(arr,target)\n",
    "print(f\"Element {target} found at index: {result}\")"
   ]
  },
  {
   "cell_type": "code",
   "execution_count": null,
   "id": "0b7a3ce5-ff19-4866-95b4-c8d93e4b1a72",
   "metadata": {},
   "outputs": [],
   "source": []
  }
 ],
 "metadata": {
  "kernelspec": {
   "display_name": "Python [conda env:base] *",
   "language": "python",
   "name": "conda-base-py"
  },
  "language_info": {
   "codemirror_mode": {
    "name": "ipython",
    "version": 3
   },
   "file_extension": ".py",
   "mimetype": "text/x-python",
   "name": "python",
   "nbconvert_exporter": "python",
   "pygments_lexer": "ipython3",
   "version": "3.12.7"
  }
 },
 "nbformat": 4,
 "nbformat_minor": 5
}
