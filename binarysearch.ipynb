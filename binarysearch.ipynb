{
 "cells": [
  {
   "cell_type": "code",
   "execution_count": 1,
   "id": "c032cde5-7aa9-490f-a924-389876ab402b",
   "metadata": {},
   "outputs": [
    {
     "name": "stdin",
     "output_type": "stream",
     "text": [
      "enter the size of array: 5\n"
     ]
    },
    {
     "name": "stdout",
     "output_type": "stream",
     "text": [
      "enter the elements:\n"
     ]
    },
    {
     "name": "stdin",
     "output_type": "stream",
     "text": [
      "element 1: 1\n",
      "element 2: 2\n",
      "element 3: 3\n",
      "element 4: 4\n",
      "element 5: 5\n",
      "enter the element top search: 4\n"
     ]
    },
    {
     "name": "stdout",
     "output_type": "stream",
     "text": [
      "element 4 found at 3\n"
     ]
    }
   ],
   "source": [
    "# BINARY SEARCH\n",
    "#array must be sorted // array is divided in to 2 seperate equilant halfs\n",
    "#set low and high 0->n-1\n",
    "#mid=low+high//2\n",
    "#algorithm\n",
    "#arr[mid]=key return mid\n",
    "#arr[mid <key lowmid+1]\n",
    "#arr[mid]>key high mid-1\n",
    "#not found return -1\n",
    "def binary_search(arr,key):\n",
    "    low=0\n",
    "    high=len(arr)-1\n",
    "    while low<=high:\n",
    "        mid=(low+high)//2\n",
    "        if arr[mid]==key:\n",
    "            return mid\n",
    "        elif arr[mid]<key:\n",
    "            low=mid+1\n",
    "        else:\n",
    "            high=mid-1\n",
    "    \n",
    "    return -1\n",
    "size=int(input(\"enter the size of array:\"))\n",
    "arr=[]\n",
    "print(\"enter the elements:\")\n",
    "for i in range(size):\n",
    "    num=int(input(f\"element {i+1}:\"))\n",
    "    arr.append(num)\n",
    "key=int(input(\"enter the element top search:\"))\n",
    "result= binary_search(arr,key)\n",
    "if result!=-1:\n",
    "    print(f\"element {key} found at {result}\")\n",
    "else:\n",
    "    print(f\"\\n element {key} not found in the array\")"
   ]
  },
  {
   "cell_type": "code",
   "execution_count": null,
   "id": "b4a81d64-a16a-478f-b14e-cce59c329746",
   "metadata": {},
   "outputs": [],
   "source": []
  }
 ],
 "metadata": {
  "kernelspec": {
   "display_name": "Python [conda env:base] *",
   "language": "python",
   "name": "conda-base-py"
  },
  "language_info": {
   "codemirror_mode": {
    "name": "ipython",
    "version": 3
   },
   "file_extension": ".py",
   "mimetype": "text/x-python",
   "name": "python",
   "nbconvert_exporter": "python",
   "pygments_lexer": "ipython3",
   "version": "3.12.7"
  }
 },
 "nbformat": 4,
 "nbformat_minor": 5
}
