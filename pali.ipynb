{
 "cells": [
  {
   "cell_type": "code",
   "execution_count": 1,
   "id": "219a73b9-6bbc-41a4-b99d-b45b0d99837c",
   "metadata": {},
   "outputs": [
    {
     "name": "stdin",
     "output_type": "stream",
     "text": [
      "enter a name: malayalam\n"
     ]
    },
    {
     "name": "stdout",
     "output_type": "stream",
     "text": [
      "palindrome\n",
      "{'m': 2, 'a': 4, 'l': 2, 'y': 1}\n"
     ]
    }
   ],
   "source": [
    "'''program to check whether the given string is palindrome or not and count the palindromic characters which are repeated\n",
    "str = madam \n",
    "output:{'m':2,'a':2,'d':1}\n",
    "str=malayalam'''\n",
    "text=input(\"enter a name:\")\n",
    "if text==text[::-1]:\n",
    "    print(\"palindrome\")\n",
    "else:\n",
    "    print(\"NOT a palindrome\")\n",
    "freq={}\n",
    "for ch in text:\n",
    "    freq[ch]=freq.get(ch,0)+1\n",
    "print(freq)"
   ]
  },
  {
   "cell_type": "code",
   "execution_count": null,
   "id": "e5ec678d-ebed-47ca-939f-875090e7bacb",
   "metadata": {},
   "outputs": [],
   "source": []
  }
 ],
 "metadata": {
  "kernelspec": {
   "display_name": "Python [conda env:base] *",
   "language": "python",
   "name": "conda-base-py"
  },
  "language_info": {
   "codemirror_mode": {
    "name": "ipython",
    "version": 3
   },
   "file_extension": ".py",
   "mimetype": "text/x-python",
   "name": "python",
   "nbconvert_exporter": "python",
   "pygments_lexer": "ipython3",
   "version": "3.12.7"
  }
 },
 "nbformat": 4,
 "nbformat_minor": 5
}
