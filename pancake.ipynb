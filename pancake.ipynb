{
 "cells": [
  {
   "cell_type": "code",
   "execution_count": 3,
   "id": "3694aab0-de8b-4de0-9a0c-9e8165cef47a",
   "metadata": {},
   "outputs": [
    {
     "name": "stdin",
     "output_type": "stream",
     "text": [
      "enter numbers sperated with space: 3 43 78 1 29 05 9\n"
     ]
    },
    {
     "name": "stdout",
     "output_type": "stream",
     "text": [
      " flip at 3: [78, 43, 3, 1, 29, 5, 9]\n",
      " flip at 7: [9, 5, 29, 1, 3, 43, 78]\n",
      " flip at 3: [29, 5, 9, 1, 3, 43, 78]\n",
      " flip at 5: [3, 1, 9, 5, 29, 43, 78]\n",
      " flip at 3: [9, 1, 3, 5, 29, 43, 78]\n",
      " flip at 4: [5, 3, 1, 9, 29, 43, 78]\n",
      " flip at 3: [1, 3, 5, 9, 29, 43, 78]\n",
      "Sorted array: [1, 3, 5, 9, 29, 43, 78]\n"
     ]
    }
   ],
   "source": [
    "def flip(arr, k):\n",
    "    return arr[:k+1][::-1]+arr[k+1:]\n",
    "def pancake_sort(arr):\n",
    "    n = len(arr)\n",
    "    for size in range(n, 1, -1):\n",
    "        max_index = arr.index(max(arr[:size]))\n",
    "\n",
    "        if max_index != size - 1:\n",
    "            if max_index !=0:\n",
    "                arr=flip(arr,max_index)\n",
    "                print(f\" flip at {max_index+1}: {arr}\")\n",
    "            arr=flip(arr,size-1)\n",
    "            print(f\" flip at {size}: {arr}\")      \n",
    "    return arr\n",
    "nums=list(map(int,input(\"enter numbers sperated with space:\").split()))\n",
    "sorted_arr = pancake_sort(nums)\n",
    "print(\"Sorted array:\", sorted_arr)"
   ]
  },
  {
   "cell_type": "code",
   "execution_count": null,
   "id": "2e23a53a-b03b-4e8e-b81c-9edfd2b3890d",
   "metadata": {},
   "outputs": [],
   "source": []
  }
 ],
 "metadata": {
  "kernelspec": {
   "display_name": "Python [conda env:base] *",
   "language": "python",
   "name": "conda-base-py"
  },
  "language_info": {
   "codemirror_mode": {
    "name": "ipython",
    "version": 3
   },
   "file_extension": ".py",
   "mimetype": "text/x-python",
   "name": "python",
   "nbconvert_exporter": "python",
   "pygments_lexer": "ipython3",
   "version": "3.12.7"
  }
 },
 "nbformat": 4,
 "nbformat_minor": 5
}
