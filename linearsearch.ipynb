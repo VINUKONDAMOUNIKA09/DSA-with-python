{
 "cells": [
  {
   "cell_type": "code",
   "execution_count": 2,
   "id": "c02ecb73-3af6-47e9-b9b4-6f5754b48754",
   "metadata": {},
   "outputs": [
    {
     "name": "stdin",
     "output_type": "stream",
     "text": [
      "enter the size of array: 4\n"
     ]
    },
    {
     "name": "stdout",
     "output_type": "stream",
     "text": [
      "enter the elements:\n"
     ]
    },
    {
     "name": "stdin",
     "output_type": "stream",
     "text": [
      "Element 1: 23\n",
      "Element 2: 4\n",
      "Element 3: 6\n",
      "Element 4: 43\n",
      "Enter the element too search: 4\n"
     ]
    },
    {
     "name": "stdout",
     "output_type": "stream",
     "text": [
      "\n",
      " Elements 4 found at 1\n"
     ]
    }
   ],
   "source": [
    "#linear search:\n",
    "#we can search in sorted or unsorted arrays\n",
    "# arr of list of size n\n",
    "# key for search element\n",
    "# start with zero index\n",
    "# compare arr[i]==key\n",
    "#arr[i]=key return index\n",
    "#else not(move to next index)\n",
    "#repeat same steps till n-1\n",
    "#if no match return -1\n",
    "def linear_search(arr,key):\n",
    "    for i in range(len(arr)):\n",
    "        if arr[i]==key:\n",
    "            return 1\n",
    "    return -1\n",
    "size=int(input(\"enter the size of array:\"))\n",
    "arr=[]\n",
    "print(\"enter the elements:\")\n",
    "for i in range(size):\n",
    "    num=int(input(f\"Element {i+1}:\"))\n",
    "    arr.append(num)\n",
    "key = int(input(\"Enter the element too search:\"))\n",
    "result=linear_search(arr,key)\n",
    "if result !=-1:\n",
    "    print(f\"\\n Elements {key} found at {result}\")\n",
    "    "
   ]
  },
  {
   "cell_type": "code",
   "execution_count": null,
   "id": "d2133d5d-dd9a-4231-be4b-feaaa7ac204b",
   "metadata": {},
   "outputs": [],
   "source": []
  }
 ],
 "metadata": {
  "kernelspec": {
   "display_name": "Python [conda env:base] *",
   "language": "python",
   "name": "conda-base-py"
  },
  "language_info": {
   "codemirror_mode": {
    "name": "ipython",
    "version": 3
   },
   "file_extension": ".py",
   "mimetype": "text/x-python",
   "name": "python",
   "nbconvert_exporter": "python",
   "pygments_lexer": "ipython3",
   "version": "3.12.7"
  }
 },
 "nbformat": 4,
 "nbformat_minor": 5
}
