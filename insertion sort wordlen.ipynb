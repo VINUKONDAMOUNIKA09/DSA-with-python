{
 "cells": [
  {
   "cell_type": "code",
   "execution_count": 10,
   "id": "6eaf6d96-a1fd-475c-a409-94a58c942e03",
   "metadata": {},
   "outputs": [
    {
     "name": "stdin",
     "output_type": "stream",
     "text": [
      "Enter the number of elements: 3\n"
     ]
    },
    {
     "name": "stdout",
     "output_type": "stream",
     "text": [
      "Enter 3 elements\n"
     ]
    },
    {
     "name": "stdin",
     "output_type": "stream",
     "text": [
      " apple\n",
      " kiwi\n",
      " banana\n"
     ]
    },
    {
     "name": "stdout",
     "output_type": "stream",
     "text": [
      "sorting array ['kiwi', 'apple', 'banana']\n"
     ]
    }
   ],
   "source": [
    "def insertion_sort(words):\n",
    "    for i in range(1, len(words)):\n",
    "        key = words[i]\n",
    "        j = i - 1\n",
    "        # Compare lengths\n",
    "        while j >= 0 and len(words[j]) > len(key):\n",
    "            words[j + 1] = words[j]\n",
    "            j -= 1\n",
    "        words[j + 1] = key\n",
    "    return words\n",
    "ssize=int(input(\"Enter the number of elements:\"))\n",
    "arr=[]\n",
    "print(\"Enter\",size,\"elements\")\n",
    "for _ in range(size):\n",
    "    name=input()\n",
    "    arr.append(name)\n",
    "result = insertion_sort(arr)\n",
    "print(\"sorting array\",result)\n"
   ]
  },
  {
   "cell_type": "code",
   "execution_count": null,
   "id": "c3195555-99f0-474c-a147-e14ef7962045",
   "metadata": {},
   "outputs": [],
   "source": []
  }
 ],
 "metadata": {
  "kernelspec": {
   "display_name": "Python [conda env:base] *",
   "language": "python",
   "name": "conda-base-py"
  },
  "language_info": {
   "codemirror_mode": {
    "name": "ipython",
    "version": 3
   },
   "file_extension": ".py",
   "mimetype": "text/x-python",
   "name": "python",
   "nbconvert_exporter": "python",
   "pygments_lexer": "ipython3",
   "version": "3.12.7"
  }
 },
 "nbformat": 4,
 "nbformat_minor": 5
}
